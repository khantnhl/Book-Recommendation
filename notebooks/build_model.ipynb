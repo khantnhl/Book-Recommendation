{
 "cells": [
  {
   "cell_type": "code",
   "execution_count": 1,
   "metadata": {},
   "outputs": [],
   "source": [
    "import pandas as pd\n",
    "import joblib\n",
    "from sklearn.feature_extraction.text import TfidfVectorizer\n",
    "from sklearn.metrics.pairwise import cosine_similarity"
   ]
  },
  {
   "cell_type": "markdown",
   "metadata": {},
   "source": []
  },
  {
   "cell_type": "code",
   "execution_count": 2,
   "metadata": {},
   "outputs": [],
   "source": [
    "class RecommendationModel:\n",
    "    def __init__(self):\n",
    "        self.vectorizer = TfidfVectorizer(stop_words=\"english\")\n",
    "        self.book_data = None\n",
    "        self.book_vectors = None\n",
    "\n",
    "    def train(self, book_data):\n",
    "        self.book_data = book_data\n",
    "        self.book_vectors = self.vectorizer.fit_transform(book_data[\"description\"])\n",
    "\n",
    "    def recommend(self, query, top_n=5):\n",
    "        query_vector = self.vectorizer.transform([query])\n",
    "        similarities = cosine_similarity(query_vector, self.book_vectors).flatten()\n",
    "        top_indices = similarities.argsort()[-top_n:][::-1]\n",
    "        return self.book_data.iloc[top_indices][\"title\"].tolist()\n"
   ]
  },
  {
   "cell_type": "code",
   "execution_count": 3,
   "metadata": {},
   "outputs": [],
   "source": [
    "book_data = pd.DataFrame({\n",
    "    \"title\": [\"Harry Potter\", \"Game of Thrones\", \"Lord of the Rings\", \"The Hobbit\"],\n",
    "    \"description\": [\n",
    "        \"A young wizard discovers his magical heritage.\",\n",
    "        \"A tale of noble families vying for control of the Iron Throne.\",\n",
    "        \"A fellowship of heroes embarks on a quest to destroy a powerful ring.\",\n",
    "        \"A hobbit goes on a journey to recover lost treasure.\"\n",
    "    ]\n",
    "})"
   ]
  },
  {
   "cell_type": "code",
   "execution_count": 4,
   "metadata": {},
   "outputs": [
    {
     "name": "stdout",
     "output_type": "stream",
     "text": [
      "Model saved successfully!\n"
     ]
    }
   ],
   "source": [
    "# Rebuild and train the model\n",
    "recommender = RecommendationModel()\n",
    "recommender.train(book_data)\n",
    "\n",
    "# Save the model properly\n",
    "joblib.dump(recommender, \"../data/recommendation_model.pkl\")\n",
    "print(\"Model saved successfully!\")"
   ]
  },
  {
   "cell_type": "code",
   "execution_count": null,
   "metadata": {},
   "outputs": [],
   "source": []
  }
 ],
 "metadata": {
  "kernelspec": {
   "display_name": "base",
   "language": "python",
   "name": "python3"
  },
  "language_info": {
   "codemirror_mode": {
    "name": "ipython",
    "version": 3
   },
   "file_extension": ".py",
   "mimetype": "text/x-python",
   "name": "python",
   "nbconvert_exporter": "python",
   "pygments_lexer": "ipython3",
   "version": "3.11.5"
  }
 },
 "nbformat": 4,
 "nbformat_minor": 2
}
